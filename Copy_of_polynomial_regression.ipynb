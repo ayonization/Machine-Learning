{
  "nbformat": 4,
  "nbformat_minor": 0,
  "metadata": {
    "colab": {
      "name": "Copy of polynomial_regression.ipynb",
      "provenance": [],
      "collapsed_sections": []
    },
    "kernelspec": {
      "name": "python3",
      "display_name": "Python 3"
    }
  },
  "cells": [
    {
      "cell_type": "markdown",
      "metadata": {
        "id": "vN99YjPTDena"
      },
      "source": [
        "# Polynomial Regression"
      ]
    },
    {
      "cell_type": "markdown",
      "metadata": {
        "id": "ZIx_naXnDyHd"
      },
      "source": [
        "## Importing the libraries"
      ]
    },
    {
      "cell_type": "code",
      "source": [
        "import numpy as np\n",
        "import pandas as pd\n",
        "import matplotlib.pyplot as plt"
      ],
      "metadata": {
        "id": "QGvUGoa3FQqu"
      },
      "execution_count": 1,
      "outputs": []
    },
    {
      "cell_type": "markdown",
      "metadata": {
        "id": "6c8YExmOD5x5"
      },
      "source": [
        "## Importing the dataset"
      ]
    },
    {
      "cell_type": "code",
      "source": [
        "dataset = pd.read_csv('Position_Salaries.csv')\n",
        "# first column of dataset is redundant so start from 2nd column\n",
        "x = dataset.iloc[:,1:-1].values\n",
        "y = dataset.iloc[:,-1].values"
      ],
      "metadata": {
        "id": "zD9UpGqdFZMr"
      },
      "execution_count": 2,
      "outputs": []
    },
    {
      "cell_type": "markdown",
      "metadata": {
        "id": "Le8SEL-YEOLb"
      },
      "source": [
        "## Training the Linear Regression model on the whole dataset"
      ]
    },
    {
      "cell_type": "code",
      "source": [
        "from sklearn.linear_model import LinearRegression\n",
        "linear_regressor = LinearRegression()\n",
        "# training the model \n",
        "linear_regressor.fit(x,y)"
      ],
      "metadata": {
        "colab": {
          "base_uri": "https://localhost:8080/"
        },
        "id": "ttXdP3nGGjCI",
        "outputId": "9869faf6-c233-4ff1-d045-d709203225f9"
      },
      "execution_count": 3,
      "outputs": [
        {
          "output_type": "execute_result",
          "data": {
            "text/plain": [
              "LinearRegression()"
            ]
          },
          "metadata": {},
          "execution_count": 3
        }
      ]
    },
    {
      "cell_type": "markdown",
      "metadata": {
        "id": "Rb5nWuSHEfBV"
      },
      "source": [
        "## Training the Polynomial Regression model on the whole dataset"
      ]
    },
    {
      "cell_type": "code",
      "source": [
        "# polynomial regression is multiple linear regression with different features\n",
        "# x1 = x1, x2 = x1^2, x3 = x1^3..\n",
        "# create matrix of features (x1,x1^2,...x1^n)\n",
        "# create linear regressor object to integrate those features in the regressor\n",
        "\n",
        "# class to create polynomial features\n",
        "from sklearn.preprocessing import PolynomialFeatures\n",
        "\n",
        "# polynomial regressor = polynomial features + linear regressor\n",
        "polynomial_reg = PolynomialFeatures(degree = 4) # (degree = n)\n",
        "\n",
        "# new matrix of features (x,x^2)\n",
        "x_poly = polynomial_reg.fit_transform(x)\n",
        "\n",
        "#integrating new matrix of featuers in linear regression model\n",
        "linear_regressor_2 = LinearRegression()\n",
        "linear_regressor_2.fit(x_poly,y)"
      ],
      "metadata": {
        "colab": {
          "base_uri": "https://localhost:8080/"
        },
        "id": "rnsZzaGHOpza",
        "outputId": "64cdbaf3-fafe-4c97-eab4-5103c09f9ed5"
      },
      "execution_count": 4,
      "outputs": [
        {
          "output_type": "execute_result",
          "data": {
            "text/plain": [
              "LinearRegression()"
            ]
          },
          "metadata": {},
          "execution_count": 4
        }
      ]
    },
    {
      "cell_type": "markdown",
      "metadata": {
        "id": "0O8R0tzbEpvy"
      },
      "source": [
        "## Visualising the Linear Regression results"
      ]
    },
    {
      "cell_type": "code",
      "source": [
        "# actual plot of salay vs level\n",
        "plt.scatter(x,y,color='red')\n",
        "\n",
        "# plotting simple linear regression line\n",
        "plt.plot(x,linear_regressor.predict(x),color = 'blue')\n",
        "plt.title('Truth or bluff (linear regression)')\n",
        "plt.xlabel('Position level')\n",
        "plt.ylabel('Salary')\n",
        "plt.show()"
      ],
      "metadata": {
        "colab": {
          "base_uri": "https://localhost:8080/",
          "height": 295
        },
        "id": "LSJV4uqARZan",
        "outputId": "64734346-c134-4e4d-96c4-ef569b2b2cfe"
      },
      "execution_count": 5,
      "outputs": [
        {
          "output_type": "display_data",
          "data": {
            "image/png": "[encoded data removed]",
            "text/plain": [
              "<Figure size 432x288 with 1 Axes>"
            ]
          },
          "metadata": {
            "needs_background": "light"
          }
        }
      ]
    },
    {
      "cell_type": "markdown",
      "metadata": {
        "id": "stOnSo74E52m"
      },
      "source": [
        "## Visualising the Polynomial Regression results"
      ]
    },
    {
      "cell_type": "code",
      "source": [
        "plt.scatter(x,y,color='red')\n",
        "\n",
        "# applying polynomial regression to transformed matrix of features\n",
        "plt.plot(x,linear_regressor_2.predict(x_poly),color='blue')\n",
        "plt.title('Truth of bluff (polynomial regression)')\n",
        "plt.xlabel('Position level')\n",
        "plt.ylabel('Salary')\n",
        "plt.show()"
      ],
      "metadata": {
        "colab": {
          "base_uri": "https://localhost:8080/",
          "height": 295
        },
        "id": "47ZTbwHaS1HP",
        "outputId": "0a2ec315-d9d6-4103-cbb2-52980f8987de"
      },
      "execution_count": 6,
      "outputs": [
        {
          "output_type": "display_data",
          "data": {
            "image/png": "[encoded data removed]",
            "text/plain": [
              "<Figure size 432x288 with 1 Axes>"
            ]
          },
          "metadata": {
            "needs_background": "light"
          }
        }
      ]
    },
    {
      "cell_type": "markdown",
      "metadata": {
        "id": "U_qsAMKnE-PJ"
      },
      "source": [
        "## Visualising the Polynomial Regression results (for higher resolution and smoother curve)"
      ]
    },
    {
      "cell_type": "markdown",
      "metadata": {
        "id": "diyJFZHhFFeK"
      },
      "source": [
        "## Predicting a new result with Linear Regression"
      ]
    },
    {
      "cell_type": "code",
      "source": [
        "#predicting single observation with linear regression (position = 6.5)\n",
        "\n",
        "# single sq bracket means vector, predcit excpects array (2 dimensions)\n",
        "linear_regressor.predict([[6.5]]) # double sq brackets, (2 dimensions, rows and columns)\n",
        "\n",
        "# regression model predicts person should get salary of 330k dollars"
      ],
      "metadata": {
        "colab": {
          "base_uri": "https://localhost:8080/"
        },
        "id": "h038PxOeKZiI",
        "outputId": "7d936ca7-4c38-4438-c633-e1243a769d8a"
      },
      "execution_count": 8,
      "outputs": [
        {
          "output_type": "execute_result",
          "data": {
            "text/plain": [
              "array([330378.78787879])"
            ]
          },
          "metadata": {},
          "execution_count": 8
        }
      ]
    },
    {
      "cell_type": "markdown",
      "metadata": {
        "id": "DW7I7ZVDFNkk"
      },
      "source": [
        "## Predicting a new result with Polynomial Regression"
      ]
    },
    {
      "cell_type": "code",
      "source": [
        "# predicting single observation with polynomial regression (position =6.5)\n",
        "\n",
        "xin = [[6.5]]\n",
        "x_input = polynomial_reg.fit_transform(xin)\n",
        "\n",
        "linear_regressor_2.predict(x_input)\n",
        "\n",
        "# regression model predicts salary of 158k dollars "
      ],
      "metadata": {
        "colab": {
          "base_uri": "https://localhost:8080/"
        },
        "id": "1tXsYG4rLewy",
        "outputId": "f5083862-e55c-42cd-8ead-2ccc09d589f4"
      },
      "execution_count": 10,
      "outputs": [
        {
          "output_type": "execute_result",
          "data": {
            "text/plain": [
              "array([158862.45265155])"
            ]
          },
          "metadata": {},
          "execution_count": 10
        }
      ]
    }
  ]
}